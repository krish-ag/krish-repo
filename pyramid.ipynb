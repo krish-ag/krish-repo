{
 "cells": [
  {
   "cell_type": "markdown",
   "metadata": {},
   "source": [
    "# PATTERN PROGRAMS"
   ]
  },
  {
   "cell_type": "markdown",
   "metadata": {},
   "source": [
    "## Star Pattern Programs"
   ]
  },
  {
   "cell_type": "code",
   "execution_count": 1,
   "metadata": {},
   "outputs": [
    {
     "data": {
      "text/plain": [
       "0"
      ]
     },
     "execution_count": 1,
     "metadata": {},
     "output_type": "execute_result"
    }
   ],
   "source": [
    "\"\"\"\n",
    "types:-\n",
    "star pyramid pattern\n",
    "half pyramid pattern\n",
    "triangle pattern\n",
    "hourglass pattern\n",
    "diamond pattern\n",
    "inverted pyramid patterns\n",
    "\"\"\"\n",
    "0"
   ]
  },
  {
   "cell_type": "markdown",
   "metadata": {},
   "source": [
    "### Pyramid Pattern"
   ]
  },
  {
   "cell_type": "code",
   "execution_count": 2,
   "metadata": {},
   "outputs": [
    {
     "name": "stdout",
     "output_type": "stream",
     "text": [
      "enter a no.5\n",
      "        * \n",
      "       * * \n",
      "      * * * \n",
      "     * * * * \n",
      "    * * * * * \n"
     ]
    }
   ],
   "source": [
    "def pattern(n):\n",
    "    k=2 * n - 2\n",
    "    for i in range(0,n):\n",
    "        for j in range(0,k):\n",
    "            print(end=' ')\n",
    "        k=k-1\n",
    "        for j in range(0,i+1):\n",
    "            print(\"*\",end=\" \")\n",
    "        print('\\r')\n",
    "        \n",
    "pattern(int(input(\"enter a no.\")))"
   ]
  },
  {
   "cell_type": "markdown",
   "metadata": {},
   "source": [
    "### Inverse Pyramid Pattern"
   ]
  },
  {
   "cell_type": "code",
   "execution_count": 3,
   "metadata": {},
   "outputs": [
    {
     "name": "stdout",
     "output_type": "stream",
     "text": [
      "Enter a no.5\n",
      "        * * * * * * \n",
      "         * * * * * \n",
      "          * * * * \n",
      "           * * * \n",
      "            * * \n",
      "             * \n"
     ]
    }
   ],
   "source": [
    "n=int(input('Enter a no.'))\n",
    "k=(2*n-2)\n",
    "for i in range(n,-1,-1):\n",
    "    for j in range(k,0,-1):\n",
    "        print(end=' ')\n",
    "    k=k+1\n",
    "    for j in range(0,i+1):\n",
    "        print('*',end=' ')\n",
    "    print(\"\\r\")"
   ]
  },
  {
   "cell_type": "markdown",
   "metadata": {},
   "source": [
    "### Right Start Pattern"
   ]
  },
  {
   "cell_type": "code",
   "execution_count": 4,
   "metadata": {},
   "outputs": [
    {
     "name": "stdout",
     "output_type": "stream",
     "text": [
      "*\r\n",
      "**\r\n",
      "***\r\n",
      "****\r\n",
      "*****\r\n",
      "******\r\n",
      "*******\r\n",
      "********\r\n",
      "*********\r\n",
      "**********\r\n",
      "***********\r\n",
      "**********\r\n",
      "*********\r\n",
      "********\r\n",
      "*******\r\n",
      "******\r\n",
      "*****\r\n",
      "****\r\n",
      "***\r\n",
      "**\r\n",
      "*\r\n"
     ]
    }
   ],
   "source": [
    "def pattern(n):\n",
    "    for i in range(0,n):\n",
    "        for j in range(0,i+1):\n",
    "            print('*',end='')\n",
    "        print('\\r')\n",
    "    for i in range(n,-1,-1):\n",
    "        for j in range(0,i+1):\n",
    "            print('*',end='')\n",
    "        print('\\r')\n",
    "pattern(10)"
   ]
  },
  {
   "cell_type": "markdown",
   "metadata": {},
   "source": [
    "### Left Start Pattern"
   ]
  },
  {
   "cell_type": "code",
   "execution_count": 5,
   "metadata": {},
   "outputs": [
    {
     "name": "stdout",
     "output_type": "stream",
     "text": [
      "enter a no.10\n",
      "                  * \n",
      "                * * \n",
      "              * * * \n",
      "            * * * * \n",
      "          * * * * * \n",
      "        * * * * * * \n",
      "      * * * * * * * \n",
      "    * * * * * * * * \n",
      "  * * * * * * * * * \n",
      "* * * * * * * * * * \n",
      "  * * * * * * * * * \n",
      "    * * * * * * * * \n",
      "      * * * * * * * \n",
      "        * * * * * * \n",
      "          * * * * * \n",
      "            * * * * \n",
      "              * * * \n",
      "                * * \n",
      "                  * \n"
     ]
    }
   ],
   "source": [
    "def pattern(n):\n",
    "    k=2*n-2\n",
    "    for i in range(0,n-1):\n",
    "        for j in range(0,k):\n",
    "            print(end=' ')\n",
    "        k=k-2\n",
    "        for j in range(0,i+1):\n",
    "            print('* ',end='')\n",
    "        print('\\r')\n",
    "    k= -1\n",
    "    for i in range(n-1,-1,-1):\n",
    "        for j in range(k,-1,-1):\n",
    "            print(end=' ')\n",
    "        k=k+2\n",
    "        for j in range(0,i+1):\n",
    "            print('* ',end='')\n",
    "        print('\\r')\n",
    "pattern(int(input('enter a no.')))"
   ]
  },
  {
   "cell_type": "markdown",
   "metadata": {},
   "source": [
    "### Hour Glass"
   ]
  },
  {
   "cell_type": "code",
   "execution_count": 6,
   "metadata": {
    "scrolled": true
   },
   "outputs": [
    {
     "name": "stdout",
     "output_type": "stream",
     "text": [
      "   * * * * * * \r\n",
      "    * * * * * \r\n",
      "     * * * * \r\n",
      "      * * * \r\n",
      "       * * \r\n",
      "        * \r\n",
      "        * \r\n",
      "       * * \r\n",
      "      * * * \r\n",
      "     * * * * \r\n",
      "    * * * * * \r\n",
      "   * * * * * * \r\n"
     ]
    }
   ],
   "source": [
    "def pattern(n):\n",
    "    k=n - 2\n",
    "    for i in range(n,-1,-1):\n",
    "        for j in range(k,0,-1):\n",
    "            print(end=' ')\n",
    "        k=k+1\n",
    "        for j in range(0,i+1):\n",
    "            print('*',end=' ')\n",
    "        print(\"\\r\")\n",
    "    k=2*n-2\n",
    "    for i in range(0,n+1):\n",
    "        for j in range(0,k):\n",
    "            print(end=' ')\n",
    "        k=k-1\n",
    "        for j in range(0,i+1):\n",
    "            print(\"*\",end=\" \")\n",
    "        print('\\r')\n",
    "pattern(5)"
   ]
  },
  {
   "cell_type": "markdown",
   "metadata": {},
   "source": [
    "### Half pyramid Pattern "
   ]
  },
  {
   "cell_type": "code",
   "execution_count": 3,
   "metadata": {
    "scrolled": true
   },
   "outputs": [
    {
     "name": "stdout",
     "output_type": "stream",
     "text": [
      "* \r\n",
      "* * \r\n",
      "* * * \r\n",
      "* * * * \r\n",
      "* * * * * \r\n"
     ]
    }
   ],
   "source": [
    "def pattern(n):\n",
    "    for i in range(0,n):\n",
    "        for j in range(0,i+1):\n",
    "            print('* ',end='')\n",
    "        print('\\r')\n",
    "pattern(5)"
   ]
  },
  {
   "cell_type": "markdown",
   "metadata": {},
   "source": [
    "### Left Half Pyramid Pattern"
   ]
  },
  {
   "cell_type": "code",
   "execution_count": 4,
   "metadata": {},
   "outputs": [
    {
     "name": "stdout",
     "output_type": "stream",
     "text": [
      "        * \r\n",
      "      * * \r\n",
      "    * * * \r\n",
      "  * * * * \r\n",
      "* * * * * \r\n"
     ]
    }
   ],
   "source": [
    "def pattern(n):\n",
    "    k=2*n-2\n",
    "    for i in range(0,n):\n",
    "        for j in range(0,k):\n",
    "            print(end=' ')\n",
    "        k=k-2\n",
    "        for j in range(0,i+1):\n",
    "            print('*',end=' ')\n",
    "        print('\\r')\n",
    "pattern(5)\n",
    "        "
   ]
  },
  {
   "cell_type": "code",
   "execution_count": 5,
   "metadata": {},
   "outputs": [
    {
     "name": "stdout",
     "output_type": "stream",
     "text": [
      "* * * * * * * * * * * \r\n",
      "* * * * * * * * * * \r\n",
      "* * * * * * * * * \r\n",
      "* * * * * * * * \r\n",
      "* * * * * * * \r\n",
      "* * * * * * \r\n",
      "* * * * * \r\n",
      "* * * * \r\n",
      "* * * \r\n",
      "* * \r\n",
      "* \r\n"
     ]
    }
   ],
   "source": [
    "def pattern(n):\n",
    "    for i in range(n,-1,-1):\n",
    "        for j in range(0,i+1):\n",
    "            print('*',end=' ')\n",
    "        print(\"\\r\")\n",
    "pattern(10)"
   ]
  },
  {
   "cell_type": "markdown",
   "metadata": {},
   "source": [
    "### Diamond Pattern "
   ]
  },
  {
   "cell_type": "code",
   "execution_count": 6,
   "metadata": {},
   "outputs": [
    {
     "ename": "SyntaxError",
     "evalue": "unexpected EOF while parsing (<ipython-input-6-88a0365d2ee8>, line 3)",
     "output_type": "error",
     "traceback": [
      "\u001b[1;36m  File \u001b[1;32m\"<ipython-input-6-88a0365d2ee8>\"\u001b[1;36m, line \u001b[1;32m3\u001b[0m\n\u001b[1;33m    for i in range(0,n):\u001b[0m\n\u001b[1;37m                        ^\u001b[0m\n\u001b[1;31mSyntaxError\u001b[0m\u001b[1;31m:\u001b[0m unexpected EOF while parsing\n"
     ]
    }
   ],
   "source": [
    "def pattern(n):\n",
    "    k=2*n-2\n",
    "    for i in range(0,n):\n",
    "        for j in range(0,k):\n",
    "            print(end=\" \")\n",
    "        k=k-1\n",
    "        for j in range(0)"
   ]
  },
  {
   "cell_type": "code",
   "execution_count": null,
   "metadata": {},
   "outputs": [],
   "source": []
  }
 ],
 "metadata": {
  "kernelspec": {
   "display_name": "Python 3",
   "language": "python",
   "name": "python3"
  },
  "language_info": {
   "codemirror_mode": {
    "name": "ipython",
    "version": 3
   },
   "file_extension": ".py",
   "mimetype": "text/x-python",
   "name": "python",
   "nbconvert_exporter": "python",
   "pygments_lexer": "ipython3",
   "version": "3.8.0"
  }
 },
 "nbformat": 4,
 "nbformat_minor": 4
}
